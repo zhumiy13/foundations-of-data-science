{
 "cells": [
  {
   "cell_type": "markdown",
   "id": "b93f4789",
   "metadata": {},
   "source": [
    "# Assignment #2: Data Exploration\n",
    "\n",
    "In this assignment, you will demonstrate your knowledge of the Python and Pandas skills we've learned so far. These include:\n",
    "\n",
    "- Getting an overview of your data\n",
    "- Extracting columns\n",
    "- Removing duplicates from your data\n",
    "- Creating a subset of your data by matching a string\n",
    "- Getting a random sample of your data\n",
    "- Sorting your data \n",
    "- Getting fundamental statistical information of a series, such as the mean and median\n",
    "\n",
    "You will not need to formulate or answer a research question for this assignment. You simply need to demonstrate your ability to perform specific operations on the data set you have selected. In the next assignment, your midterm, you will create a narrative exploration of the data using many of the same methods, but in such a way as to use narrative along with data analysis to answer a research question.\n",
    "\n",
    "You may use the data set you imported in assignment #1, or you may choose another data set. That means that you can reuse code you wrote in Assignment #1 to import the data.\n",
    "\n",
    "In the below notebook, I will ask for you to perform a task. Each task will be followed by one or more blank code cells. Use as many cells as you need to complete the task. If you know some other way to complete the task with Python and/or Pandas that is not the way we learned in class, that is also acceptable. Feel free to use Google searches to refresh your memory as to how to perform each task. You will also likely wish to consult the class notebooks, which can be found in [our class repository on GitHub](https://github.com/sha256rma/foundations-of-data-science).\n",
    "\n",
    "If your data set does not have a needed form of data for a task, write code that would perform the task if a column with that data existed, and provide an explanation as a comment or markdown cell.\n",
    "\n",
    "You may receive partial credit for some incomplete or incorrect answers. Please feel free to add comments about your thought process, which will make it more likely that you will receive partial credit.\n",
    "\n",
    "The last cell is a bonus. You will not be penalized for not attempting or completing it.\n",
    "\n",
    "-----"
   ]
  },
  {
   "cell_type": "markdown",
   "id": "2bfcd632",
   "metadata": {},
   "source": [
    "Import Pandas and read your data in as a data frame. Assign the data frame to a variable, such as `df`."
   ]
  },
  {
   "cell_type": "code",
   "execution_count": 270,
   "id": "6e0a3d4f-9613-4bc7-9e81-71f9888a00bf",
   "metadata": {},
   "outputs": [],
   "source": [
    "  inauguraladdress_data = [ \n",
    "    [2017, 'Donald Trump', 1436], \n",
    "    [1957, 'Dwight D. Eisenhower', 1636],\n",
    "    [2009, 'Barack Obama', 2385],\n",
    "    [2001, 'George W. Bush', 1591],\n",
    "    [1993, 'Bill Clinton', 1598],\n",
    "    [1989, 'George H. W. Bush', 2314],\n",
    "    [1981, 'Ronald Reagan', 2418],\n",
    "    [1977, 'Jimmy Carter', 1215],\n",
    "    [1969, 'Richard Nixon', 2102],\n",
    "    [1965, 'Lyndon B. Johnson', 1498],\n",
    "    [1961, 'John F. Kennedy', 1338],\n",
    "    [1953, 'Dwight D. Eisenhower', 2446],\n",
    "    [1949, 'Harry S. Truman', 2269],\n",
    "    [1941, 'Franklin D. Roosevelt', 1335],\n",
    "    [1933, 'Franklin D. Roosevelt', 1882],\n",
    "    [1929, 'Herbert Hoover', 3846],\n",
    "    [1925, 'Calvin Coolidge', 4045],\n",
    "    [1921, 'Warren G. Harding', 3323],\n",
    "    [1913, 'Woodrow Wilson', 1697],\n",
    "    [1905, 'Theodore Roosevelt', 983],\n",
    "    [1901, 'William Mckinley', 2215],\n",
    "  ]"
   ]
  },
  {
   "cell_type": "code",
   "execution_count": 272,
   "id": "797c533d",
   "metadata": {
    "scrolled": true
   },
   "outputs": [],
   "source": [
    "inauguraladdress_data_columns = ['year', 'name', 'length of speech']"
   ]
  },
  {
   "cell_type": "code",
   "execution_count": 274,
   "id": "ad4dca88-f428-4d00-a813-b7c03b7c9900",
   "metadata": {},
   "outputs": [],
   "source": [
    "import pandas as pd"
   ]
  },
  {
   "cell_type": "code",
   "execution_count": 276,
   "id": "36cf2f42-73e6-40eb-9975-e710023ce747",
   "metadata": {},
   "outputs": [],
   "source": [
    "df = pd.DataFrame(data=inauguraladdress_data, columns=inauguraladdress_data_columns) "
   ]
  },
  {
   "cell_type": "markdown",
   "id": "a24891c9",
   "metadata": {},
   "source": [
    "Make the data frame visible by placing the data frame variable in a cell by itself."
   ]
  },
  {
   "cell_type": "code",
   "execution_count": 279,
   "id": "ccd666d6",
   "metadata": {},
   "outputs": [
    {
     "data": {
      "text/html": [
       "<div>\n",
       "<style scoped>\n",
       "    .dataframe tbody tr th:only-of-type {\n",
       "        vertical-align: middle;\n",
       "    }\n",
       "\n",
       "    .dataframe tbody tr th {\n",
       "        vertical-align: top;\n",
       "    }\n",
       "\n",
       "    .dataframe thead th {\n",
       "        text-align: right;\n",
       "    }\n",
       "</style>\n",
       "<table border=\"1\" class=\"dataframe\">\n",
       "  <thead>\n",
       "    <tr style=\"text-align: right;\">\n",
       "      <th></th>\n",
       "      <th>year</th>\n",
       "      <th>name</th>\n",
       "      <th>length of speech</th>\n",
       "    </tr>\n",
       "  </thead>\n",
       "  <tbody>\n",
       "    <tr>\n",
       "      <th>0</th>\n",
       "      <td>2017</td>\n",
       "      <td>Donald Trump</td>\n",
       "      <td>1436</td>\n",
       "    </tr>\n",
       "    <tr>\n",
       "      <th>1</th>\n",
       "      <td>1957</td>\n",
       "      <td>Dwight D. Eisenhower</td>\n",
       "      <td>1636</td>\n",
       "    </tr>\n",
       "    <tr>\n",
       "      <th>2</th>\n",
       "      <td>2009</td>\n",
       "      <td>Barack Obama</td>\n",
       "      <td>2385</td>\n",
       "    </tr>\n",
       "    <tr>\n",
       "      <th>3</th>\n",
       "      <td>2001</td>\n",
       "      <td>George W. Bush</td>\n",
       "      <td>1591</td>\n",
       "    </tr>\n",
       "    <tr>\n",
       "      <th>4</th>\n",
       "      <td>1993</td>\n",
       "      <td>Bill Clinton</td>\n",
       "      <td>1598</td>\n",
       "    </tr>\n",
       "    <tr>\n",
       "      <th>5</th>\n",
       "      <td>1989</td>\n",
       "      <td>George H. W. Bush</td>\n",
       "      <td>2314</td>\n",
       "    </tr>\n",
       "    <tr>\n",
       "      <th>6</th>\n",
       "      <td>1981</td>\n",
       "      <td>Ronald Reagan</td>\n",
       "      <td>2418</td>\n",
       "    </tr>\n",
       "    <tr>\n",
       "      <th>7</th>\n",
       "      <td>1977</td>\n",
       "      <td>Jimmy Carter</td>\n",
       "      <td>1215</td>\n",
       "    </tr>\n",
       "    <tr>\n",
       "      <th>8</th>\n",
       "      <td>1969</td>\n",
       "      <td>Richard Nixon</td>\n",
       "      <td>2102</td>\n",
       "    </tr>\n",
       "    <tr>\n",
       "      <th>9</th>\n",
       "      <td>1965</td>\n",
       "      <td>Lyndon B. Johnson</td>\n",
       "      <td>1498</td>\n",
       "    </tr>\n",
       "    <tr>\n",
       "      <th>10</th>\n",
       "      <td>1961</td>\n",
       "      <td>John F. Kennedy</td>\n",
       "      <td>1338</td>\n",
       "    </tr>\n",
       "    <tr>\n",
       "      <th>11</th>\n",
       "      <td>1953</td>\n",
       "      <td>Dwight D. Eisenhower</td>\n",
       "      <td>2446</td>\n",
       "    </tr>\n",
       "    <tr>\n",
       "      <th>12</th>\n",
       "      <td>1949</td>\n",
       "      <td>Harry S. Truman</td>\n",
       "      <td>2269</td>\n",
       "    </tr>\n",
       "    <tr>\n",
       "      <th>13</th>\n",
       "      <td>1941</td>\n",
       "      <td>Franklin D. Roosevelt</td>\n",
       "      <td>1335</td>\n",
       "    </tr>\n",
       "    <tr>\n",
       "      <th>14</th>\n",
       "      <td>1933</td>\n",
       "      <td>Franklin D. Roosevelt</td>\n",
       "      <td>1882</td>\n",
       "    </tr>\n",
       "    <tr>\n",
       "      <th>15</th>\n",
       "      <td>1929</td>\n",
       "      <td>Herbert Hoover</td>\n",
       "      <td>3846</td>\n",
       "    </tr>\n",
       "    <tr>\n",
       "      <th>16</th>\n",
       "      <td>1925</td>\n",
       "      <td>Calvin Coolidge</td>\n",
       "      <td>4045</td>\n",
       "    </tr>\n",
       "    <tr>\n",
       "      <th>17</th>\n",
       "      <td>1921</td>\n",
       "      <td>Warren G. Harding</td>\n",
       "      <td>3323</td>\n",
       "    </tr>\n",
       "    <tr>\n",
       "      <th>18</th>\n",
       "      <td>1913</td>\n",
       "      <td>Woodrow Wilson</td>\n",
       "      <td>1697</td>\n",
       "    </tr>\n",
       "    <tr>\n",
       "      <th>19</th>\n",
       "      <td>1905</td>\n",
       "      <td>Theodore Roosevelt</td>\n",
       "      <td>983</td>\n",
       "    </tr>\n",
       "    <tr>\n",
       "      <th>20</th>\n",
       "      <td>1901</td>\n",
       "      <td>William Mckinley</td>\n",
       "      <td>2215</td>\n",
       "    </tr>\n",
       "  </tbody>\n",
       "</table>\n",
       "</div>"
      ],
      "text/plain": [
       "    year                   name  length of speech\n",
       "0   2017           Donald Trump              1436\n",
       "1   1957   Dwight D. Eisenhower              1636\n",
       "2   2009           Barack Obama              2385\n",
       "3   2001         George W. Bush              1591\n",
       "4   1993           Bill Clinton              1598\n",
       "5   1989      George H. W. Bush              2314\n",
       "6   1981          Ronald Reagan              2418\n",
       "7   1977           Jimmy Carter              1215\n",
       "8   1969          Richard Nixon              2102\n",
       "9   1965      Lyndon B. Johnson              1498\n",
       "10  1961        John F. Kennedy              1338\n",
       "11  1953   Dwight D. Eisenhower              2446\n",
       "12  1949        Harry S. Truman              2269\n",
       "13  1941  Franklin D. Roosevelt              1335\n",
       "14  1933  Franklin D. Roosevelt              1882\n",
       "15  1929         Herbert Hoover              3846\n",
       "16  1925        Calvin Coolidge              4045\n",
       "17  1921      Warren G. Harding              3323\n",
       "18  1913         Woodrow Wilson              1697\n",
       "19  1905     Theodore Roosevelt               983\n",
       "20  1901       William Mckinley              2215"
      ]
     },
     "execution_count": 279,
     "metadata": {},
     "output_type": "execute_result"
    }
   ],
   "source": [
    "df"
   ]
  },
  {
   "cell_type": "markdown",
   "id": "2bb0ff5d",
   "metadata": {},
   "source": [
    "What columns are in your data frame? Use a function or method that shows all the columns."
   ]
  },
  {
   "cell_type": "code",
   "execution_count": 282,
   "id": "eeaee6f1",
   "metadata": {},
   "outputs": [
    {
     "data": {
      "text/plain": [
       "0     2017\n",
       "1     1957\n",
       "2     2009\n",
       "3     2001\n",
       "4     1993\n",
       "5     1989\n",
       "6     1981\n",
       "7     1977\n",
       "8     1969\n",
       "9     1965\n",
       "10    1961\n",
       "11    1953\n",
       "12    1949\n",
       "13    1941\n",
       "14    1933\n",
       "15    1929\n",
       "16    1925\n",
       "17    1921\n",
       "18    1913\n",
       "19    1905\n",
       "20    1901\n",
       "Name: year, dtype: int64"
      ]
     },
     "execution_count": 282,
     "metadata": {},
     "output_type": "execute_result"
    }
   ],
   "source": [
    "df['year']"
   ]
  },
  {
   "cell_type": "code",
   "execution_count": 284,
   "id": "6323742f",
   "metadata": {},
   "outputs": [
    {
     "data": {
      "text/plain": [
       "0              Donald Trump\n",
       "1      Dwight D. Eisenhower\n",
       "2              Barack Obama\n",
       "3            George W. Bush\n",
       "4              Bill Clinton\n",
       "5         George H. W. Bush\n",
       "6             Ronald Reagan\n",
       "7              Jimmy Carter\n",
       "8             Richard Nixon\n",
       "9         Lyndon B. Johnson\n",
       "10          John F. Kennedy\n",
       "11     Dwight D. Eisenhower\n",
       "12          Harry S. Truman\n",
       "13    Franklin D. Roosevelt\n",
       "14    Franklin D. Roosevelt\n",
       "15           Herbert Hoover\n",
       "16          Calvin Coolidge\n",
       "17        Warren G. Harding\n",
       "18           Woodrow Wilson\n",
       "19       Theodore Roosevelt\n",
       "20         William Mckinley\n",
       "Name: name, dtype: object"
      ]
     },
     "execution_count": 284,
     "metadata": {},
     "output_type": "execute_result"
    }
   ],
   "source": [
    "df['name']"
   ]
  },
  {
   "cell_type": "code",
   "execution_count": 286,
   "id": "351586ed-352d-4dd8-a57f-a6a1df8ce083",
   "metadata": {},
   "outputs": [
    {
     "data": {
      "text/plain": [
       "0     1436\n",
       "1     1636\n",
       "2     2385\n",
       "3     1591\n",
       "4     1598\n",
       "5     2314\n",
       "6     2418\n",
       "7     1215\n",
       "8     2102\n",
       "9     1498\n",
       "10    1338\n",
       "11    2446\n",
       "12    2269\n",
       "13    1335\n",
       "14    1882\n",
       "15    3846\n",
       "16    4045\n",
       "17    3323\n",
       "18    1697\n",
       "19     983\n",
       "20    2215\n",
       "Name: length of speech, dtype: int64"
      ]
     },
     "execution_count": 286,
     "metadata": {},
     "output_type": "execute_result"
    }
   ],
   "source": [
    "df['length of speech']"
   ]
  },
  {
   "cell_type": "markdown",
   "id": "b06c4738",
   "metadata": {},
   "source": [
    "Write Python code to output the number of rows in your data frame."
   ]
  },
  {
   "cell_type": "code",
   "execution_count": 288,
   "id": "68882736-29b4-4ffb-ba72-38298a7e3ea2",
   "metadata": {},
   "outputs": [],
   "source": [
    "rows =len(df)"
   ]
  },
  {
   "cell_type": "code",
   "execution_count": 290,
   "id": "ec539e67-3907-497b-b50c-b5b235efaf1f",
   "metadata": {},
   "outputs": [
    {
     "name": "stdout",
     "output_type": "stream",
     "text": [
      "The Inauguraladdress dataset has 21 rows\n"
     ]
    }
   ],
   "source": [
    "print (f\"The Inauguraladdress dataset has {rows} rows\") "
   ]
  },
  {
   "cell_type": "markdown",
   "id": "e8644b85",
   "metadata": {},
   "source": [
    "Write code to output a column from your data frame as a series. (Extract a column.)"
   ]
  },
  {
   "cell_type": "code",
   "execution_count": 293,
   "id": "6ed1a654",
   "metadata": {},
   "outputs": [
    {
     "data": {
      "text/plain": [
       "0              Donald Trump\n",
       "1      Dwight D. Eisenhower\n",
       "2              Barack Obama\n",
       "3            George W. Bush\n",
       "4              Bill Clinton\n",
       "5         George H. W. Bush\n",
       "6             Ronald Reagan\n",
       "7              Jimmy Carter\n",
       "8             Richard Nixon\n",
       "9         Lyndon B. Johnson\n",
       "10          John F. Kennedy\n",
       "11     Dwight D. Eisenhower\n",
       "12          Harry S. Truman\n",
       "13    Franklin D. Roosevelt\n",
       "14    Franklin D. Roosevelt\n",
       "15           Herbert Hoover\n",
       "16          Calvin Coolidge\n",
       "17        Warren G. Harding\n",
       "18           Woodrow Wilson\n",
       "19       Theodore Roosevelt\n",
       "20         William Mckinley\n",
       "Name: name, dtype: object"
      ]
     },
     "execution_count": 293,
     "metadata": {},
     "output_type": "execute_result"
    }
   ],
   "source": [
    "df['name']"
   ]
  },
  {
   "cell_type": "code",
   "execution_count": null,
   "id": "da4ca19e",
   "metadata": {},
   "outputs": [],
   "source": []
  },
  {
   "cell_type": "markdown",
   "id": "af635ed6",
   "metadata": {},
   "source": [
    "### Read the example below to **count** duplicates based on specific columns (e.g., 'Name' and 'Age')\n",
    "\n",
    "Check duplicates based on 'Name' and 'Age' columns (modify the subset for your own columns):\n",
    "\n",
    "`duplicates_subset = df.duplicated(subset=['Name', 'Age'])`\n",
    "\n",
    "Count the number of duplicates in the subset:\n",
    "\n",
    "`num_duplicates_subset = duplicates_subset.sum()`\n",
    "\n",
    "Display no. of duplicate rows based on your column(s):\n",
    "\n",
    "`print(f\"\\nNumber of duplicate rows based on 'Name' and 'Age': {num_duplicates_subset}\")`\n"
   ]
  },
  {
   "cell_type": "markdown",
   "id": "d8b3bfe9",
   "metadata": {},
   "source": [
    "After reading the above, modify the code snippets to check for duplicate columns in your own data frame"
   ]
  },
  {
   "cell_type": "code",
   "execution_count": 295,
   "id": "8cf0f9d8",
   "metadata": {},
   "outputs": [],
   "source": [
    "duplicates_subset = df.duplicated(subset=['year', 'name'])"
   ]
  },
  {
   "cell_type": "code",
   "execution_count": 297,
   "id": "a6d1f7ef",
   "metadata": {},
   "outputs": [],
   "source": [
    "num_duplicates_subset = duplicates_subset.sum()"
   ]
  },
  {
   "cell_type": "code",
   "execution_count": 299,
   "id": "4d155faa",
   "metadata": {},
   "outputs": [
    {
     "name": "stdout",
     "output_type": "stream",
     "text": [
      "\n",
      "Number of duplicate rows based on 'year' and 'name': 0\n"
     ]
    }
   ],
   "source": [
    "print(f\"\\nNumber of duplicate rows based on 'year' and 'name': {num_duplicates_subset}\")"
   ]
  },
  {
   "cell_type": "markdown",
   "id": "a2da032a",
   "metadata": {},
   "source": [
    "If any duplicates exist within a column, remove them with the `.drop_duplicates()` function"
   ]
  },
  {
   "cell_type": "markdown",
   "id": "db4a4188-e040-4461-bf44-7108f38dd754",
   "metadata": {},
   "source": [
    "``none exist``"
   ]
  },
  {
   "cell_type": "markdown",
   "id": "75965556",
   "metadata": {},
   "source": [
    "Write Python code to output the number of rows in your data frame."
   ]
  },
  {
   "cell_type": "code",
   "execution_count": 301,
   "id": "069bb2fa",
   "metadata": {},
   "outputs": [],
   "source": [
    "rows =len(df)"
   ]
  },
  {
   "cell_type": "code",
   "execution_count": 303,
   "id": "d7fd93d1-dc51-4715-84cc-fb362ee0f95d",
   "metadata": {},
   "outputs": [
    {
     "name": "stdout",
     "output_type": "stream",
     "text": [
      "The Inauguraladdress dataset has 21 rows\n"
     ]
    }
   ],
   "source": [
    "print (f\"The Inauguraladdress dataset has {rows} rows\") "
   ]
  },
  {
   "cell_type": "markdown",
   "id": "4f728b70",
   "metadata": {},
   "source": [
    "Compare the new value with the first time you outputted the number of rows above. Is it more, less, or the same?"
   ]
  },
  {
   "cell_type": "markdown",
   "id": "10a47f50",
   "metadata": {},
   "source": [
    "``The same since there is no duplicates``"
   ]
  },
  {
   "cell_type": "markdown",
   "id": "1a9df537",
   "metadata": {},
   "source": [
    "Create a subset of the data that matches a specific string in a column. That is, extract all rows of the original data frame that contain a specific string in one of the columns. Save the resulting data frame to a variable. (Add more cells if needed)"
   ]
  },
  {
   "cell_type": "code",
   "execution_count": 308,
   "id": "b4e0a375",
   "metadata": {},
   "outputs": [],
   "source": [
    "subset_df = df[df['name'] == 'Dwight D. Eisenhower']"
   ]
  },
  {
   "cell_type": "code",
   "execution_count": 310,
   "id": "06498731",
   "metadata": {},
   "outputs": [
    {
     "name": "stdout",
     "output_type": "stream",
     "text": [
      "    year                  name  length of speech\n",
      "1   1957  Dwight D. Eisenhower              1636\n",
      "11  1953  Dwight D. Eisenhower              2446\n"
     ]
    }
   ],
   "source": [
    "print(subset_df) "
   ]
  },
  {
   "cell_type": "markdown",
   "id": "8ce688ed",
   "metadata": {},
   "source": [
    "Output the length of the resulting data frame (the subset of your data for which the conditional was true)."
   ]
  },
  {
   "cell_type": "markdown",
   "id": "e3afcc46-6c9d-4ad3-a751-ec0f626f35d4",
   "metadata": {},
   "source": [
    "2"
   ]
  },
  {
   "cell_type": "markdown",
   "id": "ad96d460",
   "metadata": {},
   "source": [
    "Output the first ten rows of your data set, the last ten rows of your data set, and a random ten rows of your data set (a sample of your data)."
   ]
  },
  {
   "cell_type": "code",
   "execution_count": 315,
   "id": "1bf71cb0",
   "metadata": {},
   "outputs": [
    {
     "name": "stdout",
     "output_type": "stream",
     "text": [
      "First ten rows:\n",
      "   year                  name  length of speech\n",
      "0  2017          Donald Trump              1436\n",
      "1  1957  Dwight D. Eisenhower              1636\n",
      "2  2009          Barack Obama              2385\n",
      "3  2001        George W. Bush              1591\n",
      "4  1993          Bill Clinton              1598\n",
      "5  1989     George H. W. Bush              2314\n",
      "6  1981         Ronald Reagan              2418\n",
      "7  1977          Jimmy Carter              1215\n",
      "8  1969         Richard Nixon              2102\n",
      "9  1965     Lyndon B. Johnson              1498\n"
     ]
    }
   ],
   "source": [
    "first_ten = df.head(10)\n",
    "print(\"First ten rows:\")\n",
    "print(first_ten)"
   ]
  },
  {
   "cell_type": "code",
   "execution_count": 317,
   "id": "59e6227f",
   "metadata": {},
   "outputs": [
    {
     "name": "stdout",
     "output_type": "stream",
     "text": [
      "\n",
      "Last ten rows:\n",
      "    year                   name  length of speech\n",
      "11  1953   Dwight D. Eisenhower              2446\n",
      "12  1949        Harry S. Truman              2269\n",
      "13  1941  Franklin D. Roosevelt              1335\n",
      "14  1933  Franklin D. Roosevelt              1882\n",
      "15  1929         Herbert Hoover              3846\n",
      "16  1925        Calvin Coolidge              4045\n",
      "17  1921      Warren G. Harding              3323\n",
      "18  1913         Woodrow Wilson              1697\n",
      "19  1905     Theodore Roosevelt               983\n",
      "20  1901       William Mckinley              2215\n"
     ]
    }
   ],
   "source": [
    "last_ten = df.tail(10)\n",
    "print(\"\\nLast ten rows:\")\n",
    "print(last_ten)"
   ]
  },
  {
   "cell_type": "code",
   "execution_count": 319,
   "id": "e3585e15",
   "metadata": {},
   "outputs": [
    {
     "name": "stdout",
     "output_type": "stream",
     "text": [
      "\n",
      "Random ten rows:\n",
      "    year                  name  length of speech\n",
      "20  1901      William Mckinley              2215\n",
      "0   2017          Donald Trump              1436\n",
      "9   1965     Lyndon B. Johnson              1498\n",
      "19  1905    Theodore Roosevelt               983\n",
      "15  1929        Herbert Hoover              3846\n",
      "4   1993          Bill Clinton              1598\n",
      "1   1957  Dwight D. Eisenhower              1636\n",
      "2   2009          Barack Obama              2385\n",
      "10  1961       John F. Kennedy              1338\n",
      "12  1949       Harry S. Truman              2269\n"
     ]
    }
   ],
   "source": [
    "random_ten = df.sample(n=10)\n",
    "print(\"\\nRandom ten rows:\")\n",
    "print(random_ten)"
   ]
  },
  {
   "cell_type": "markdown",
   "id": "7e96f519",
   "metadata": {},
   "source": [
    "## Bonus\n",
    "\n",
    "You may want to refer to the [Pandas Cheat Sheet](https://pandas.pydata.org/Pandas_Cheat_Sheet.pdf)."
   ]
  },
  {
   "cell_type": "markdown",
   "id": "4c6d9319",
   "metadata": {},
   "source": [
    "Sort your data frame by a particular column and output the result."
   ]
  },
  {
   "cell_type": "code",
   "execution_count": null,
   "id": "fab623b1",
   "metadata": {},
   "outputs": [],
   "source": []
  },
  {
   "cell_type": "code",
   "execution_count": null,
   "id": "2797159d",
   "metadata": {},
   "outputs": [],
   "source": []
  },
  {
   "cell_type": "markdown",
   "id": "4cbd44ef",
   "metadata": {},
   "source": [
    "Pick a column in your data set with numeric data (integers or floats). Output the mean (average) and median of that column."
   ]
  },
  {
   "cell_type": "code",
   "execution_count": null,
   "id": "5fcd45c6",
   "metadata": {},
   "outputs": [],
   "source": []
  }
 ],
 "metadata": {
  "kernelspec": {
   "display_name": "Python 3 (ipykernel)",
   "language": "python",
   "name": "python3"
  },
  "language_info": {
   "codemirror_mode": {
    "name": "ipython",
    "version": 3
   },
   "file_extension": ".py",
   "mimetype": "text/x-python",
   "name": "python",
   "nbconvert_exporter": "python",
   "pygments_lexer": "ipython3",
   "version": "3.12.4"
  }
 },
 "nbformat": 4,
 "nbformat_minor": 5
}
