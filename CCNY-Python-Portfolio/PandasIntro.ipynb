{
 "cells": [
  {
   "cell_type": "code",
   "execution_count": 2,
   "id": "21f9c362-abfa-451c-a832-73a7f6dcbf31",
   "metadata": {},
   "outputs": [],
   "source": [
    "import pandas as pd"
   ]
  },
  {
   "cell_type": "code",
   "execution_count": 5,
   "id": "92f42902-1a42-49fa-8743-d1e693795385",
   "metadata": {},
   "outputs": [],
   "source": [
    "student_data = [ [1,15], [2,11], [3,11], [4,20]]"
   ]
  },
  {
   "cell_type": "code",
   "execution_count": 7,
   "id": "5de07456-9aa2-4fb5-8ff2-89ec5f5a0af8",
   "metadata": {},
   "outputs": [
    {
     "data": {
      "text/plain": [
       "list"
      ]
     },
     "execution_count": 7,
     "metadata": {},
     "output_type": "execute_result"
    }
   ],
   "source": [
    "type(student_data)"
   ]
  },
  {
   "cell_type": "code",
   "execution_count": 9,
   "id": "761eeeba-50b2-43ad-9ef1-5be6b9653881",
   "metadata": {},
   "outputs": [],
   "source": [
    "columns = ['student_id', 'age']"
   ]
  },
  {
   "cell_type": "code",
   "execution_count": 11,
   "id": "ff921d07-b96b-4dcc-b31b-74d257114705",
   "metadata": {},
   "outputs": [
    {
     "data": {
      "text/plain": [
       "list"
      ]
     },
     "execution_count": 11,
     "metadata": {},
     "output_type": "execute_result"
    }
   ],
   "source": [
    "type(columns)"
   ]
  },
  {
   "cell_type": "code",
   "execution_count": 13,
   "id": "ed5b89fa-ce2d-46bd-89d1-e19d5367ecb3",
   "metadata": {},
   "outputs": [],
   "source": [
    "students = pd.DataFrame(data=student_data, columns=columns)"
   ]
  },
  {
   "cell_type": "code",
   "execution_count": 15,
   "id": "d6c05aed-75b5-48a4-9a03-17dec6ee5fdb",
   "metadata": {},
   "outputs": [
    {
     "data": {
      "text/html": [
       "<div>\n",
       "<style scoped>\n",
       "    .dataframe tbody tr th:only-of-type {\n",
       "        vertical-align: middle;\n",
       "    }\n",
       "\n",
       "    .dataframe tbody tr th {\n",
       "        vertical-align: top;\n",
       "    }\n",
       "\n",
       "    .dataframe thead th {\n",
       "        text-align: right;\n",
       "    }\n",
       "</style>\n",
       "<table border=\"1\" class=\"dataframe\">\n",
       "  <thead>\n",
       "    <tr style=\"text-align: right;\">\n",
       "      <th></th>\n",
       "      <th>student_id</th>\n",
       "      <th>age</th>\n",
       "    </tr>\n",
       "  </thead>\n",
       "  <tbody>\n",
       "    <tr>\n",
       "      <th>0</th>\n",
       "      <td>1</td>\n",
       "      <td>15</td>\n",
       "    </tr>\n",
       "    <tr>\n",
       "      <th>1</th>\n",
       "      <td>2</td>\n",
       "      <td>11</td>\n",
       "    </tr>\n",
       "    <tr>\n",
       "      <th>2</th>\n",
       "      <td>3</td>\n",
       "      <td>11</td>\n",
       "    </tr>\n",
       "    <tr>\n",
       "      <th>3</th>\n",
       "      <td>4</td>\n",
       "      <td>20</td>\n",
       "    </tr>\n",
       "  </tbody>\n",
       "</table>\n",
       "</div>"
      ],
      "text/plain": [
       "   student_id  age\n",
       "0           1   15\n",
       "1           2   11\n",
       "2           3   11\n",
       "3           4   20"
      ]
     },
     "execution_count": 15,
     "metadata": {},
     "output_type": "execute_result"
    }
   ],
   "source": [
    "students"
   ]
  },
  {
   "cell_type": "markdown",
   "id": "71e47bd7-76ff-4fb7-9442-5decafdacce4",
   "metadata": {},
   "source": [
    "## We're now going to count how many rows our dataset has..."
   ]
  },
  {
   "cell_type": "code",
   "execution_count": 18,
   "id": "0f8f0eee-b4c5-49bc-8750-ec42656f4366",
   "metadata": {},
   "outputs": [],
   "source": [
    "rows = len(students) # len is a function that returns the\n",
    "                     # length of whats inside "
   ]
  },
  {
   "cell_type": "code",
   "execution_count": 20,
   "id": "c93221fd-d457-4bba-a2c3-b88dbb30fedd",
   "metadata": {},
   "outputs": [
    {
     "name": "stdout",
     "output_type": "stream",
     "text": [
      "The students dataset has 4 rows\n"
     ]
    }
   ],
   "source": [
    "print (f\"The students dataset has {rows} rows\")"
   ]
  },
  {
   "cell_type": "code",
   "execution_count": 22,
   "id": "a6d88e91-5d62-49f0-ba63-c14baa768ec6",
   "metadata": {},
   "outputs": [
    {
     "data": {
      "text/plain": [
       "pandas.core.frame.DataFrame"
      ]
     },
     "execution_count": 22,
     "metadata": {},
     "output_type": "execute_result"
    }
   ],
   "source": [
    "type(students)"
   ]
  },
  {
   "cell_type": "code",
   "execution_count": 34,
   "id": "ad876781-0da8-414a-9ee5-076269135199",
   "metadata": {},
   "outputs": [],
   "source": [
    "student_columns = len(students.columns)"
   ]
  },
  {
   "cell_type": "code",
   "execution_count": 36,
   "id": "b4467e1e-fe11-4860-8806-f7729b63d7d7",
   "metadata": {},
   "outputs": [
    {
     "name": "stdout",
     "output_type": "stream",
     "text": [
      "The students dataset has 2 columns\n"
     ]
    }
   ],
   "source": [
    "print(f\"The students dataset has {student_columns} columns\")"
   ]
  },
  {
   "cell_type": "markdown",
   "id": "8e291c6a-f35e-4bb7-b554-6559d4bc54b8",
   "metadata": {},
   "source": [
    "## Checkpoint:\n",
    "1. We imported padas\n",
    "2. We created a students dataset\n",
    "3. We counted how many rows and columns are in the students dataset"
   ]
  },
  {
   "cell_type": "markdown",
   "id": "df5d6c56-9446-4e03-9606-9b5be5178e8c",
   "metadata": {},
   "source": [
    "`Print out the first 3 rows of the students dataframe...`"
   ]
  },
  {
   "cell_type": "markdown",
   "id": "01636a36-8dcd-4182-b441-6ad37f98408c",
   "metadata": {},
   "source": []
  },
  {
   "cell_type": "code",
   "execution_count": null,
   "id": "e88ae84a-e6a3-478b-ba52-f798b805cf8f",
   "metadata": {},
   "outputs": [],
   "source": []
  },
  {
   "cell_type": "code",
   "execution_count": null,
   "id": "8da2c7b1-d89b-48de-84d3-172fb39d902e",
   "metadata": {},
   "outputs": [],
   "source": []
  }
 ],
 "metadata": {
  "kernelspec": {
   "display_name": "Python 3 (ipykernel)",
   "language": "python",
   "name": "python3"
  },
  "language_info": {
   "codemirror_mode": {
    "name": "ipython",
    "version": 3
   },
   "file_extension": ".py",
   "mimetype": "text/x-python",
   "name": "python",
   "nbconvert_exporter": "python",
   "pygments_lexer": "ipython3",
   "version": "3.12.4"
  }
 },
 "nbformat": 4,
 "nbformat_minor": 5
}
