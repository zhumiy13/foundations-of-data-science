{
 "cells": [
  {
   "cell_type": "markdown",
   "id": "43511ea4-d6ca-4755-bebd-f9aad7b22c1f",
   "metadata": {},
   "source": [
    "# Pandas cont. #"
   ]
  },
  {
   "cell_type": "markdown",
   "id": "557a6e2a-6e47-41b0-ac10-7822dcd0e841",
   "metadata": {},
   "source": [
    " ## Recap: ##"
   ]
  },
  {
   "cell_type": "markdown",
   "id": "4e342554-f78d-45bc-be8e-c4559e891d92",
   "metadata": {},
   "source": [
    "- Imported pandas\n",
    "- Created a DataFrame\n",
    "- Counted the no. of rows and columns in our DataFrame\n",
    "- Displayed the first 3 rows of our DataFrame "
   ]
  },
  {
   "cell_type": "markdown",
   "id": "f9ae7226-93bc-43ad-a078-d35133a57ebf",
   "metadata": {},
   "source": [
    "## Task ##"
   ]
  },
  {
   "cell_type": "markdown",
   "id": "d82e7235-51b8-455d-aaaa-4ad3a0a115a7",
   "metadata": {},
   "source": [
    "1. We are given a DataFrame\n",
    "2. We want to filter it by student_id = 101\n",
    "3. We want to return the columns: name and age"
   ]
  },
  {
   "cell_type": "code",
   "execution_count": 62,
   "id": "77b48c0c-b7d5-4805-920e-56f7675fabba",
   "metadata": {},
   "outputs": [],
   "source": [
    "student_data = [\n",
    "    [101, 'ulysses', 13],\n",
    "    [53, 'William', 10], \n",
    "    [128, 'Henry', 6],\n",
    "    [3, 'Henry', 11], \n",
    "] "
   ]
  },
  {
   "cell_type": "code",
   "execution_count": 64,
   "id": "935b955d-81ed-44d3-8fd9-adad8517ae38",
   "metadata": {},
   "outputs": [],
   "source": [
    "student_data_columns = ['student_id', 'name', 'age']"
   ]
  },
  {
   "cell_type": "code",
   "execution_count": 66,
   "id": "f814752e-3bec-4d95-8a22-71b608183cb6",
   "metadata": {},
   "outputs": [],
   "source": [
    "import pandas as pd"
   ]
  },
  {
   "cell_type": "code",
   "execution_count": 68,
   "id": "7b82ea5b-8585-4ae5-9816-908614413e99",
   "metadata": {},
   "outputs": [],
   "source": [
    "df = pd.DataFrame(data=student_data, columns=student_data_columns)"
   ]
  },
  {
   "cell_type": "code",
   "execution_count": 71,
   "id": "996d4930-898a-4625-b73c-483c532e2125",
   "metadata": {},
   "outputs": [
    {
     "data": {
      "text/html": [
       "<div>\n",
       "<style scoped>\n",
       "    .dataframe tbody tr th:only-of-type {\n",
       "        vertical-align: middle;\n",
       "    }\n",
       "\n",
       "    .dataframe tbody tr th {\n",
       "        vertical-align: top;\n",
       "    }\n",
       "\n",
       "    .dataframe thead th {\n",
       "        text-align: right;\n",
       "    }\n",
       "</style>\n",
       "<table border=\"1\" class=\"dataframe\">\n",
       "  <thead>\n",
       "    <tr style=\"text-align: right;\">\n",
       "      <th></th>\n",
       "      <th>student_id</th>\n",
       "      <th>name</th>\n",
       "      <th>age</th>\n",
       "    </tr>\n",
       "  </thead>\n",
       "  <tbody>\n",
       "    <tr>\n",
       "      <th>0</th>\n",
       "      <td>101</td>\n",
       "      <td>ulysses</td>\n",
       "      <td>13</td>\n",
       "    </tr>\n",
       "    <tr>\n",
       "      <th>1</th>\n",
       "      <td>53</td>\n",
       "      <td>William</td>\n",
       "      <td>10</td>\n",
       "    </tr>\n",
       "    <tr>\n",
       "      <th>2</th>\n",
       "      <td>128</td>\n",
       "      <td>Henry</td>\n",
       "      <td>6</td>\n",
       "    </tr>\n",
       "    <tr>\n",
       "      <th>3</th>\n",
       "      <td>3</td>\n",
       "      <td>Henry</td>\n",
       "      <td>11</td>\n",
       "    </tr>\n",
       "  </tbody>\n",
       "</table>\n",
       "</div>"
      ],
      "text/plain": [
       "   student_id     name  age\n",
       "0         101  ulysses   13\n",
       "1          53  William   10\n",
       "2         128    Henry    6\n",
       "3           3    Henry   11"
      ]
     },
     "execution_count": 71,
     "metadata": {},
     "output_type": "execute_result"
    }
   ],
   "source": [
    "df"
   ]
  },
  {
   "cell_type": "code",
   "execution_count": null,
   "id": "8f6721b2-cf30-49e7-90ae-4fa01b40756b",
   "metadata": {},
   "outputs": [],
   "source": []
  },
  {
   "cell_type": "code",
   "execution_count": null,
   "id": "24c8ffdd-8d5f-41c4-9016-805fccbd884b",
   "metadata": {},
   "outputs": [],
   "source": []
  },
  {
   "cell_type": "code",
   "execution_count": null,
   "id": "4921d5e3-c41c-4009-ab6e-2bf1722bb624",
   "metadata": {},
   "outputs": [],
   "source": []
  }
 ],
 "metadata": {
  "kernelspec": {
   "display_name": "Python 3 (ipykernel)",
   "language": "python",
   "name": "python3"
  },
  "language_info": {
   "codemirror_mode": {
    "name": "ipython",
    "version": 3
   },
   "file_extension": ".py",
   "mimetype": "text/x-python",
   "name": "python",
   "nbconvert_exporter": "python",
   "pygments_lexer": "ipython3",
   "version": "3.12.4"
  }
 },
 "nbformat": 4,
 "nbformat_minor": 5
}
