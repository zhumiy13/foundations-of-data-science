{
 "cells": [
  {
   "cell_type": "markdown",
   "id": "4256dc96",
   "metadata": {},
   "source": [
    "# Assignment #1: Evaluate Data Set\n",
    "\n",
    "In your first graded assignment for this course, you will find and evaluate a data set on a topic of your choosing. You will be given specific questions related to the data set, and you will also be tasked with importing the data from your data set into your Jupyter Notebook environment. \n",
    "\n",
    "## Choose a Broad Topic\n",
    "\n",
    "First, choose a topic of interest to you, such as a specific social issue, a political or cultural trend, a community, or a hobby or personal interest. Ideally, it should be something relatively broad that society or culture is having some sort of conversation about, or which many people think about on a regular basis. Possible examples might be:\n",
    "\n",
    "- Housing and rental prices in New York City\n",
    "- A popular genre of music\n",
    "- A sport\n",
    "- Food prices\n",
    "- Crime\n",
    "- Government spending\n",
    "- Popularity of movies or TV shows \n",
    "- Bestselling books\n",
    "\n",
    "## Find a Data Set\n",
    "\n",
    "Search for terms related to your topic on Google, both generally and by adding specific names of websites where data will commonly be found. The following websites are frequently places to find data sets, and it sometimes makes sense to both search directly on the site and to do regular Google searches with the site name:\n",
    "\n",
    "- [Google Data Set Search](https://datasetsearch.research.google.com/)\n",
    "- [GitHub](https://github.com/)\n",
    "- [Kaggle](https://www.kaggle.com/)\n",
    "- [Data.gov](https://www.data.gov/)\n",
    "\n",
    "For example, if your topic is bestselling books, you might try these searches on Google:\n",
    "\n",
    "- bestselling books data set\n",
    "- bestselling books data set kaggle\n",
    "- bestselling books data set github\n",
    "- bestselling books data set \n",
    "\n",
    "You're not likely to find bestselling books data on data.gov, but you might find a lot of info related to health, the economy, and demographics, since that's what the government is most concerned about."
   ]
  },
  {
   "cell_type": "markdown",
   "id": "1c1a8105",
   "metadata": {},
   "source": [
    "-----"
   ]
  },
  {
   "cell_type": "markdown",
   "id": "9be8caee",
   "metadata": {},
   "source": [
    "What is your topic? (Enter responses to questions like these in the cell provided below.)"
   ]
  },
  {
   "cell_type": "markdown",
   "id": "c9702a5b",
   "metadata": {},
   "source": [
    "**My topic is Presidential inaugural adresses**"
   ]
  },
  {
   "cell_type": "markdown",
   "id": "e2b8f153",
   "metadata": {},
   "source": [
    "What drew you to this topic, or why did you choose it?"
   ]
  },
  {
   "cell_type": "markdown",
   "id": "359d76a7",
   "metadata": {},
   "source": [
    "**I chose this topic beacause the presidential election is coming soon in November, and so I decided to do something related to this topic. So I decided to look up the inauguration of each president since George Washington. It was easy to find as i found it in the list provided above**"
   ]
  },
  {
   "cell_type": "markdown",
   "id": "20048152",
   "metadata": {},
   "source": [
    "## Choose a Data Set\n",
    "\n",
    "Choose a data set to use for the rest of this assignment. The data set doesn't need to be perfect, but ideally it should interest you and be in one of the discussed formats (CSV, TSV, Excel, JSON, .txt). If the data is in another format, either reach out to me to ask about it or choose another data set for this assignment. You may want to look ahead to the rest of this assignment to make sure nothing about the data set will make it difficult to answer the questions or to import the data."
   ]
  },
  {
   "cell_type": "markdown",
   "id": "5e869d8d",
   "metadata": {},
   "source": [
    "What is the name of your data set? Or provide a one-sentence description."
   ]
  },
  {
   "cell_type": "markdown",
   "id": "2ddf052f",
   "metadata": {},
   "source": [
    "**My data set in a .txt file which Ive seen before when pdf on my computer randomly disappeared and turned into a .txt file. Is a file with on going text, no tables, no columns, just text and text and text**"
   ]
  },
  {
   "cell_type": "markdown",
   "id": "dc525c3e",
   "metadata": {},
   "source": [
    "What is the URL of the page on which you found the data set? (Paste the full URL.)"
   ]
  },
  {
   "cell_type": "markdown",
   "id": "b7f6a2fa",
   "metadata": {},
   "source": [
    "https://melaniewalsh.github.io/Intro-Cultural-Analytics/00-Datasets/00-Datasets.html"
   ]
  },
  {
   "cell_type": "markdown",
   "id": "4d16c0fa",
   "metadata": {},
   "source": [
    "## Evaluation\n",
    "\n",
    "In this step, you will evaluate the data to the extent possible without using data science tools like Python or Pandas. You should download the data to your computer, and use both the data set itself as downloaded and the page you found it on to answer these questions. If you can't answer a question, write what you tried to do to answer it—don't give up right away, and try to think of other ways to answer the question. (In some cases, you can even contact the person who created the data set—if you do so, feel free to copy me on the email.)"
   ]
  },
  {
   "cell_type": "markdown",
   "id": "ba3a6174",
   "metadata": {},
   "source": [
    "What is the file format or file extension of the data set? Examples might be .csv (Comma Seperated Values), .tsv (Tab Separated Values), .xlsx (Excel workbook), .txt (plain text file), or JSON (JavaScript Object Notation)."
   ]
  },
  {
   "cell_type": "markdown",
   "id": "d17ed7a7",
   "metadata": {},
   "source": [
    "**.txt (plain text file)**"
   ]
  },
  {
   "cell_type": "markdown",
   "id": "6880764f",
   "metadata": {},
   "source": [
    "What is the size in megabytes (MB)or gigabytes (GB) of the data set?"
   ]
  },
  {
   "cell_type": "markdown",
   "id": "621b781a",
   "metadata": {},
   "source": [
    "**1.4 MB on disk**"
   ]
  },
  {
   "cell_type": "markdown",
   "id": "e8ba770e",
   "metadata": {},
   "source": [
    "How many columns or fields is the data set? (Columns or fields are different types of data—for example, a book dataset might have title, author, and year as columns.)"
   ]
  },
  {
   "cell_type": "markdown",
   "id": "41ed02fa",
   "metadata": {},
   "source": [
    "**There are no columns or fields in a .txt file, however the file is separated by the name of the President, the year of inaugaration, and the speech given to the country**"
   ]
  },
  {
   "cell_type": "markdown",
   "id": "747cbbcb",
   "metadata": {},
   "source": [
    "List out the columns in the data set. (You can put each column on a line, or you can separate the columns with commas.)"
   ]
  },
  {
   "cell_type": "markdown",
   "id": "a63d096c",
   "metadata": {},
   "source": [
    "**Name of President Elected, Year of Inaugaration, Inaugaral address**"
   ]
  },
  {
   "cell_type": "markdown",
   "id": "799b491b",
   "metadata": {},
   "source": [
    "How many rows is the data set? (To use the book data set example again, each row might represent one book.)"
   ]
  },
  {
   "cell_type": "markdown",
   "id": "05e6b9ae",
   "metadata": {},
   "source": [
    "**58 rows after constructing a proper dataset table of the .txt file. Each row represents one president**"
   ]
  },
  {
   "cell_type": "markdown",
   "id": "9b82706b",
   "metadata": {},
   "source": [
    "What types of data appear in the data set? (You can use Python terms, like \"integer,\" \"float,\" \"boolean,\" \"string,\" or you can use other descriptive terms, like \"numeric data\" or \"text data.\" Try to be as comprehensive as possible in your answer."
   ]
  },
  {
   "cell_type": "markdown",
   "id": "bded6448",
   "metadata": {},
   "source": [
    "**the .txt file is filled with text and integer data. As text are the presidents name and speeches, and integers rperesent the inaugaration dates**"
   ]
  },
  {
   "cell_type": "markdown",
   "id": "ae154ab5",
   "metadata": {},
   "source": [
    "On initial inspection, does anything appear to be missing or wrong in the data set? (Don't spend too long on this.)"
   ]
  },
  {
   "cell_type": "markdown",
   "id": "89d2e870",
   "metadata": {},
   "source": [
    "**Nothing wrong, everything looks well organized, and it was easy to comprehend**"
   ]
  },
  {
   "cell_type": "markdown",
   "id": "30d0ccf4",
   "metadata": {},
   "source": [
    "What kinds of questions could you answer with this data set? In answering this question, write at least one paragraph of at least 150 words."
   ]
  },
  {
   "cell_type": "markdown",
   "id": "ed19997b",
   "metadata": {},
   "source": [
    "**Based on the data, some questions that can be answered are the following: Have there been re-elections of presidents? Based on the data, I see names repeated which means that they have been re-elected and served another term. Who has the most re-elections? Based on the data, we can see the names of the presidents re-elected for another term, all we have to do is tally up the amount of times we see a name on the rows and see who had the most terms served. Who has the longest and shortest speech? This one is kinda hard to see at first but when we input the information of the text file onto a dataset table, we can see the length of the speeches and make an estimate on which is longer and which is shorter. We can do this by counting the amount of rows a speech has and go from there**"
   ]
  },
  {
   "cell_type": "markdown",
   "id": "5fbbecb7",
   "metadata": {},
   "source": [
    "Do you see any issues or limitations with the data set? Alternatively, what do you wish was included in the data set that is not included? (Write at least one paragraph of at least 150 words.)"
   ]
  },
  {
   "cell_type": "markdown",
   "id": "e4ab6eff",
   "metadata": {},
   "source": [
    "**I dont see any issues or limitations in the data, although I can add some data that be more helpful in understanding the terms each president ran. For example including a date of the start and end of a term. Include the number of re-elections. and possible include a number dedicated to the amount of presidents who have died, resigned or was removed from office. This would be marked by integers and not full length information as it would make the dataset more targeted towards something other than inaugural addresses**"
   ]
  },
  {
   "cell_type": "markdown",
   "id": "18f10308",
   "metadata": {},
   "source": [
    "## Reading the Data in Python\n",
    "\n",
    "Using as many cells as you need in the rest of this notebook, load the data into Python. You will probably want to use Pandas to load the data. Some example code is provided for you below. \n",
    "\n",
    "To use the example code in a Jupyter Notebook on your computer, you will need to make sure your data set is in the same folder as your notebook, and that you get the filename *exactly* right, including the extension. Here is example code for a Jupyter Notebook—this is just to get you started, and you are responsible for getting this working, which may involve looking up how to import data using Python and Pandas on Google.\n",
    "\n",
    "```python\n",
    "import pandas\n",
    "\n",
    "df = pandas.read_csv('name_of_data_file.csv')\n",
    "\n",
    "df\n",
    "```\n",
    "\n",
    "If your data is in another format, you will need to use the Pandas function related to that format. For example, to import JSON:\n",
    "\n",
    "```python\n",
    "import pandas\n",
    "\n",
    "df = pandas.read_json('name_of_data_file.json')\n",
    "\n",
    "df\n",
    "```\n",
    "\n",
    "Use as much space as you need below to import the file into Pandas (as above). Make sure the dataframe (df) is shown as an output at the end.\n"
   ]
  },
  {
   "cell_type": "code",
   "execution_count": 24,
   "id": "96b0db41",
   "metadata": {},
   "outputs": [],
   "source": [
    "import pandas as pd"
   ]
  },
  {
   "cell_type": "code",
   "execution_count": 26,
   "id": "5eb01ced",
   "metadata": {},
   "outputs": [],
   "source": [
    "df = pd.read_fwf('dataset.txt')"
   ]
  },
  {
   "cell_type": "code",
   "execution_count": 28,
   "id": "dae44fac",
   "metadata": {},
   "outputs": [
    {
     "data": {
      "text/html": [
       "<div>\n",
       "<style scoped>\n",
       "    .dataframe tbody tr th:only-of-type {\n",
       "        vertical-align: middle;\n",
       "    }\n",
       "\n",
       "    .dataframe tbody tr th {\n",
       "        vertical-align: top;\n",
       "    }\n",
       "\n",
       "    .dataframe thead th {\n",
       "        text-align: right;\n",
       "    }\n",
       "</style>\n",
       "<table border=\"1\" class=\"dataframe\">\n",
       "  <thead>\n",
       "    <tr style=\"text-align: right;\">\n",
       "      <th></th>\n",
       "      <th>Donald Trump 1/20/2017 Chief Justice Roberts, President Carter, President Clinton, President Bush, President Obama, fellow Americans, and people of the world: Thank you.</th>\n",
       "      <th>Unnamed: 1</th>\n",
       "      <th>Unnamed: 2</th>\n",
       "      <th>Unnamed: 3</th>\n",
       "      <th>Unnamed: 4</th>\n",
       "      <th>Unnamed: 5</th>\n",
       "      <th>Unnamed: 6</th>\n",
       "      <th>Unnamed: 7</th>\n",
       "      <th>Unnamed: 8</th>\n",
       "      <th>Unnamed: 9</th>\n",
       "      <th>...</th>\n",
       "      <th>Unnamed: 403</th>\n",
       "      <th>Unnamed: 404</th>\n",
       "      <th>Unnamed: 405</th>\n",
       "      <th>Unnamed: 406</th>\n",
       "      <th>Unnamed: 407</th>\n",
       "      <th>Unnamed: 408</th>\n",
       "      <th>Unnamed: 409</th>\n",
       "      <th>Unnamed: 410</th>\n",
       "      <th>Unnamed: 411</th>\n",
       "      <th>Unnamed: 412</th>\n",
       "    </tr>\n",
       "  </thead>\n",
       "  <tbody>\n",
       "    <tr>\n",
       "      <th>0</th>\n",
       "      <td>We, the citizens of America, are now joined in...</td>\n",
       "      <td>We will face challenges, we will confront hard...</td>\n",
       "      <td>will get the job done. Every 4 years, we</td>\n",
       "      <td>gather on these steps to</td>\n",
       "      <td>carry out the orderly and peaceful transfer of...</td>\n",
       "      <td>and we are grateful to President Obama and Fir...</td>\n",
       "      <td>Obama</td>\n",
       "      <td>for their gracious aid throughout this</td>\n",
       "      <td>transition. They have</td>\n",
       "      <td>been magnificent. Thank you.Today's ceremony,</td>\n",
       "      <td>...</td>\n",
       "      <td>NaN</td>\n",
       "      <td>NaN</td>\n",
       "      <td>NaN</td>\n",
       "      <td>NaN</td>\n",
       "      <td>NaN</td>\n",
       "      <td>NaN</td>\n",
       "      <td>NaN</td>\n",
       "      <td>NaN</td>\n",
       "      <td>NaN</td>\n",
       "      <td>NaN</td>\n",
       "    </tr>\n",
       "    <tr>\n",
       "      <th>1</th>\n",
       "      <td>Dwight D. Eisenhower\\t1/21/1957\\tMr. Chairman,...</td>\n",
       "      <td>four years ago, and again you have witnessed m...</td>\n",
       "      <td>of service to you. I, too, am a witness,</td>\n",
       "      <td>today testifying in your</td>\n",
       "      <td>name to the principles and purposes to which w...</td>\n",
       "      <td>people, are pledged. Before all else, we seek,...</td>\n",
       "      <td>labor</td>\n",
       "      <td>as a nation, the blessings of Almighty</td>\n",
       "      <td>God. And the hopes in</td>\n",
       "      <td>our hearts fashion the deepest prayers of our</td>\n",
       "      <td>...</td>\n",
       "      <td>of</td>\n",
       "      <td>each,</td>\n",
       "      <td>the</td>\n",
       "      <td>brotherhood</td>\n",
       "      <td>of</td>\n",
       "      <td>all.</td>\n",
       "      <td>Thank</td>\n",
       "      <td>you</td>\n",
       "      <td>very</td>\n",
       "      <td>much.</td>\n",
       "    </tr>\n",
       "  </tbody>\n",
       "</table>\n",
       "<p>2 rows × 413 columns</p>\n",
       "</div>"
      ],
      "text/plain": [
       "  Donald Trump 1/20/2017 Chief Justice Roberts, President Carter, President Clinton, President Bush, President Obama, fellow Americans, and people of the world: Thank you.  \\\n",
       "0  We, the citizens of America, are now joined in...                                                                                                                          \n",
       "1  Dwight D. Eisenhower\\t1/21/1957\\tMr. Chairman,...                                                                                                                          \n",
       "\n",
       "                                          Unnamed: 1  \\\n",
       "0  We will face challenges, we will confront hard...   \n",
       "1  four years ago, and again you have witnessed m...   \n",
       "\n",
       "                                 Unnamed: 2                Unnamed: 3  \\\n",
       "0  will get the job done. Every 4 years, we  gather on these steps to   \n",
       "1  of service to you. I, too, am a witness,  today testifying in your   \n",
       "\n",
       "                                          Unnamed: 4  \\\n",
       "0  carry out the orderly and peaceful transfer of...   \n",
       "1  name to the principles and purposes to which w...   \n",
       "\n",
       "                                          Unnamed: 5 Unnamed: 6  \\\n",
       "0  and we are grateful to President Obama and Fir...      Obama   \n",
       "1  people, are pledged. Before all else, we seek,...      labor   \n",
       "\n",
       "                               Unnamed: 7             Unnamed: 8  \\\n",
       "0  for their gracious aid throughout this  transition. They have   \n",
       "1  as a nation, the blessings of Almighty  God. And the hopes in   \n",
       "\n",
       "                                      Unnamed: 9  ... Unnamed: 403  \\\n",
       "0  been magnificent. Thank you.Today's ceremony,  ...          NaN   \n",
       "1  our hearts fashion the deepest prayers of our  ...           of   \n",
       "\n",
       "  Unnamed: 404 Unnamed: 405 Unnamed: 406 Unnamed: 407 Unnamed: 408  \\\n",
       "0          NaN          NaN          NaN          NaN          NaN   \n",
       "1        each,          the  brotherhood           of         all.   \n",
       "\n",
       "  Unnamed: 409 Unnamed: 410 Unnamed: 411 Unnamed: 412  \n",
       "0          NaN          NaN          NaN          NaN  \n",
       "1        Thank          you         very        much.  \n",
       "\n",
       "[2 rows x 413 columns]"
      ]
     },
     "execution_count": 28,
     "metadata": {},
     "output_type": "execute_result"
    }
   ],
   "source": [
    "df"
   ]
  },
  {
   "cell_type": "code",
   "execution_count": null,
   "id": "a2befb32-6d45-49b7-bb36-ed73f188b34e",
   "metadata": {},
   "outputs": [],
   "source": []
  }
 ],
 "metadata": {
  "kernelspec": {
   "display_name": "Python 3 (ipykernel)",
   "language": "python",
   "name": "python3"
  },
  "language_info": {
   "codemirror_mode": {
    "name": "ipython",
    "version": 3
   },
   "file_extension": ".py",
   "mimetype": "text/x-python",
   "name": "python",
   "nbconvert_exporter": "python",
   "pygments_lexer": "ipython3",
   "version": "3.12.4"
  }
 },
 "nbformat": 4,
 "nbformat_minor": 5
}
